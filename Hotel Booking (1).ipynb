{
 "cells": [
  {
   "cell_type": "markdown",
   "id": "9ecc3766-4e78-4c33-a198-d3e173a6a4cc",
   "metadata": {},
   "source": [
    "# Hotel Booking Data Analysis"
   ]
  },
  {
   "cell_type": "code",
   "execution_count": 1,
   "id": "52622c4a-4c4b-456e-8304-48fb54b21162",
   "metadata": {},
   "outputs": [
    {
     "data": {
      "text/html": [
       "<div>\n",
       "<style scoped>\n",
       "    .dataframe tbody tr th:only-of-type {\n",
       "        vertical-align: middle;\n",
       "    }\n",
       "\n",
       "    .dataframe tbody tr th {\n",
       "        vertical-align: top;\n",
       "    }\n",
       "\n",
       "    .dataframe thead th {\n",
       "        text-align: right;\n",
       "    }\n",
       "</style>\n",
       "<table border=\"1\" class=\"dataframe\">\n",
       "  <thead>\n",
       "    <tr style=\"text-align: right;\">\n",
       "      <th></th>\n",
       "      <th>hotel</th>\n",
       "      <th>is_canceled</th>\n",
       "      <th>lead_time</th>\n",
       "      <th>stays_in_weekend_nights</th>\n",
       "      <th>stays_in_week_nights</th>\n",
       "      <th>adults</th>\n",
       "      <th>children</th>\n",
       "      <th>meal</th>\n",
       "      <th>country</th>\n",
       "      <th>market_segment</th>\n",
       "      <th>...</th>\n",
       "      <th>is_repeated_guest</th>\n",
       "      <th>reserved_room_type</th>\n",
       "      <th>assigned_room_type</th>\n",
       "      <th>deposit_type</th>\n",
       "      <th>customer_type</th>\n",
       "      <th>reservation_status</th>\n",
       "      <th>reservation_status_date</th>\n",
       "      <th>name</th>\n",
       "      <th>email</th>\n",
       "      <th>phone-number</th>\n",
       "    </tr>\n",
       "  </thead>\n",
       "  <tbody>\n",
       "    <tr>\n",
       "      <th>0</th>\n",
       "      <td>Resort Hotel</td>\n",
       "      <td>0</td>\n",
       "      <td>342</td>\n",
       "      <td>0</td>\n",
       "      <td>0</td>\n",
       "      <td>2</td>\n",
       "      <td>0.0</td>\n",
       "      <td>BB</td>\n",
       "      <td>PRT</td>\n",
       "      <td>Direct</td>\n",
       "      <td>...</td>\n",
       "      <td>0</td>\n",
       "      <td>C</td>\n",
       "      <td>C</td>\n",
       "      <td>No Deposit</td>\n",
       "      <td>Transient</td>\n",
       "      <td>Check-Out</td>\n",
       "      <td>7/1/2015</td>\n",
       "      <td>Ernest Barnes</td>\n",
       "      <td>Ernest.Barnes31@outlook.com</td>\n",
       "      <td>669-792-1661</td>\n",
       "    </tr>\n",
       "    <tr>\n",
       "      <th>1</th>\n",
       "      <td>Resort Hotel</td>\n",
       "      <td>0</td>\n",
       "      <td>737</td>\n",
       "      <td>0</td>\n",
       "      <td>0</td>\n",
       "      <td>2</td>\n",
       "      <td>0.0</td>\n",
       "      <td>BB</td>\n",
       "      <td>PRT</td>\n",
       "      <td>Direct</td>\n",
       "      <td>...</td>\n",
       "      <td>0</td>\n",
       "      <td>C</td>\n",
       "      <td>C</td>\n",
       "      <td>No Deposit</td>\n",
       "      <td>Transient</td>\n",
       "      <td>Check-Out</td>\n",
       "      <td>7/1/2015</td>\n",
       "      <td>Andrea Baker</td>\n",
       "      <td>Andrea_Baker94@aol.com</td>\n",
       "      <td>858-637-6955</td>\n",
       "    </tr>\n",
       "    <tr>\n",
       "      <th>2</th>\n",
       "      <td>Resort Hotel</td>\n",
       "      <td>0</td>\n",
       "      <td>7</td>\n",
       "      <td>0</td>\n",
       "      <td>1</td>\n",
       "      <td>1</td>\n",
       "      <td>0.0</td>\n",
       "      <td>BB</td>\n",
       "      <td>GBR</td>\n",
       "      <td>Direct</td>\n",
       "      <td>...</td>\n",
       "      <td>0</td>\n",
       "      <td>A</td>\n",
       "      <td>C</td>\n",
       "      <td>No Deposit</td>\n",
       "      <td>Transient</td>\n",
       "      <td>Check-Out</td>\n",
       "      <td>7/2/2015</td>\n",
       "      <td>Rebecca Parker</td>\n",
       "      <td>Rebecca_Parker@comcast.net</td>\n",
       "      <td>652-885-2745</td>\n",
       "    </tr>\n",
       "    <tr>\n",
       "      <th>3</th>\n",
       "      <td>Resort Hotel</td>\n",
       "      <td>0</td>\n",
       "      <td>13</td>\n",
       "      <td>0</td>\n",
       "      <td>1</td>\n",
       "      <td>1</td>\n",
       "      <td>0.0</td>\n",
       "      <td>BB</td>\n",
       "      <td>GBR</td>\n",
       "      <td>Corporate</td>\n",
       "      <td>...</td>\n",
       "      <td>0</td>\n",
       "      <td>A</td>\n",
       "      <td>A</td>\n",
       "      <td>No Deposit</td>\n",
       "      <td>Transient</td>\n",
       "      <td>Check-Out</td>\n",
       "      <td>7/2/2015</td>\n",
       "      <td>Laura Murray</td>\n",
       "      <td>Laura_M@gmail.com</td>\n",
       "      <td>364-656-8427</td>\n",
       "    </tr>\n",
       "    <tr>\n",
       "      <th>4</th>\n",
       "      <td>Resort Hotel</td>\n",
       "      <td>0</td>\n",
       "      <td>14</td>\n",
       "      <td>0</td>\n",
       "      <td>2</td>\n",
       "      <td>2</td>\n",
       "      <td>0.0</td>\n",
       "      <td>BB</td>\n",
       "      <td>GBR</td>\n",
       "      <td>Online TA</td>\n",
       "      <td>...</td>\n",
       "      <td>0</td>\n",
       "      <td>A</td>\n",
       "      <td>A</td>\n",
       "      <td>No Deposit</td>\n",
       "      <td>Transient</td>\n",
       "      <td>Check-Out</td>\n",
       "      <td>7/3/2015</td>\n",
       "      <td>Linda Hines</td>\n",
       "      <td>LHines@verizon.com</td>\n",
       "      <td>713-226-5883</td>\n",
       "    </tr>\n",
       "    <tr>\n",
       "      <th>...</th>\n",
       "      <td>...</td>\n",
       "      <td>...</td>\n",
       "      <td>...</td>\n",
       "      <td>...</td>\n",
       "      <td>...</td>\n",
       "      <td>...</td>\n",
       "      <td>...</td>\n",
       "      <td>...</td>\n",
       "      <td>...</td>\n",
       "      <td>...</td>\n",
       "      <td>...</td>\n",
       "      <td>...</td>\n",
       "      <td>...</td>\n",
       "      <td>...</td>\n",
       "      <td>...</td>\n",
       "      <td>...</td>\n",
       "      <td>...</td>\n",
       "      <td>...</td>\n",
       "      <td>...</td>\n",
       "      <td>...</td>\n",
       "      <td>...</td>\n",
       "    </tr>\n",
       "    <tr>\n",
       "      <th>119385</th>\n",
       "      <td>City Hotel</td>\n",
       "      <td>0</td>\n",
       "      <td>23</td>\n",
       "      <td>2</td>\n",
       "      <td>5</td>\n",
       "      <td>2</td>\n",
       "      <td>0.0</td>\n",
       "      <td>BB</td>\n",
       "      <td>BEL</td>\n",
       "      <td>Offline TA/TO</td>\n",
       "      <td>...</td>\n",
       "      <td>0</td>\n",
       "      <td>A</td>\n",
       "      <td>A</td>\n",
       "      <td>No Deposit</td>\n",
       "      <td>Transient</td>\n",
       "      <td>Check-Out</td>\n",
       "      <td>9/6/2017</td>\n",
       "      <td>Claudia Johnson</td>\n",
       "      <td>Claudia.J@yahoo.com</td>\n",
       "      <td>403-092-5582</td>\n",
       "    </tr>\n",
       "    <tr>\n",
       "      <th>119386</th>\n",
       "      <td>City Hotel</td>\n",
       "      <td>0</td>\n",
       "      <td>102</td>\n",
       "      <td>2</td>\n",
       "      <td>5</td>\n",
       "      <td>3</td>\n",
       "      <td>0.0</td>\n",
       "      <td>BB</td>\n",
       "      <td>FRA</td>\n",
       "      <td>Online TA</td>\n",
       "      <td>...</td>\n",
       "      <td>0</td>\n",
       "      <td>E</td>\n",
       "      <td>E</td>\n",
       "      <td>No Deposit</td>\n",
       "      <td>Transient</td>\n",
       "      <td>Check-Out</td>\n",
       "      <td>9/7/2017</td>\n",
       "      <td>Wesley Aguilar</td>\n",
       "      <td>WAguilar@xfinity.com</td>\n",
       "      <td>238-763-0612</td>\n",
       "    </tr>\n",
       "    <tr>\n",
       "      <th>119387</th>\n",
       "      <td>City Hotel</td>\n",
       "      <td>0</td>\n",
       "      <td>34</td>\n",
       "      <td>2</td>\n",
       "      <td>5</td>\n",
       "      <td>2</td>\n",
       "      <td>0.0</td>\n",
       "      <td>BB</td>\n",
       "      <td>DEU</td>\n",
       "      <td>Online TA</td>\n",
       "      <td>...</td>\n",
       "      <td>0</td>\n",
       "      <td>D</td>\n",
       "      <td>D</td>\n",
       "      <td>No Deposit</td>\n",
       "      <td>Transient</td>\n",
       "      <td>Check-Out</td>\n",
       "      <td>9/7/2017</td>\n",
       "      <td>Mary Morales</td>\n",
       "      <td>Mary_Morales@hotmail.com</td>\n",
       "      <td>395-518-4100</td>\n",
       "    </tr>\n",
       "    <tr>\n",
       "      <th>119388</th>\n",
       "      <td>City Hotel</td>\n",
       "      <td>0</td>\n",
       "      <td>109</td>\n",
       "      <td>2</td>\n",
       "      <td>5</td>\n",
       "      <td>2</td>\n",
       "      <td>0.0</td>\n",
       "      <td>BB</td>\n",
       "      <td>GBR</td>\n",
       "      <td>Online TA</td>\n",
       "      <td>...</td>\n",
       "      <td>0</td>\n",
       "      <td>A</td>\n",
       "      <td>A</td>\n",
       "      <td>No Deposit</td>\n",
       "      <td>Transient</td>\n",
       "      <td>Check-Out</td>\n",
       "      <td>9/7/2017</td>\n",
       "      <td>Caroline Conley MD</td>\n",
       "      <td>MD_Caroline@comcast.net</td>\n",
       "      <td>531-528-1017</td>\n",
       "    </tr>\n",
       "    <tr>\n",
       "      <th>119389</th>\n",
       "      <td>City Hotel</td>\n",
       "      <td>0</td>\n",
       "      <td>205</td>\n",
       "      <td>2</td>\n",
       "      <td>7</td>\n",
       "      <td>2</td>\n",
       "      <td>0.0</td>\n",
       "      <td>HB</td>\n",
       "      <td>DEU</td>\n",
       "      <td>Online TA</td>\n",
       "      <td>...</td>\n",
       "      <td>0</td>\n",
       "      <td>A</td>\n",
       "      <td>A</td>\n",
       "      <td>No Deposit</td>\n",
       "      <td>Transient</td>\n",
       "      <td>Check-Out</td>\n",
       "      <td>9/7/2017</td>\n",
       "      <td>Ariana Michael</td>\n",
       "      <td>Ariana_M@xfinity.com</td>\n",
       "      <td>422-804-6403</td>\n",
       "    </tr>\n",
       "  </tbody>\n",
       "</table>\n",
       "<p>119390 rows × 21 columns</p>\n",
       "</div>"
      ],
      "text/plain": [
       "               hotel  is_canceled  lead_time  stays_in_weekend_nights  \\\n",
       "0       Resort Hotel            0        342                        0   \n",
       "1       Resort Hotel            0        737                        0   \n",
       "2       Resort Hotel            0          7                        0   \n",
       "3       Resort Hotel            0         13                        0   \n",
       "4       Resort Hotel            0         14                        0   \n",
       "...              ...          ...        ...                      ...   \n",
       "119385    City Hotel            0         23                        2   \n",
       "119386    City Hotel            0        102                        2   \n",
       "119387    City Hotel            0         34                        2   \n",
       "119388    City Hotel            0        109                        2   \n",
       "119389    City Hotel            0        205                        2   \n",
       "\n",
       "        stays_in_week_nights  adults  children meal country market_segment  \\\n",
       "0                          0       2       0.0   BB     PRT         Direct   \n",
       "1                          0       2       0.0   BB     PRT         Direct   \n",
       "2                          1       1       0.0   BB     GBR         Direct   \n",
       "3                          1       1       0.0   BB     GBR      Corporate   \n",
       "4                          2       2       0.0   BB     GBR      Online TA   \n",
       "...                      ...     ...       ...  ...     ...            ...   \n",
       "119385                     5       2       0.0   BB     BEL  Offline TA/TO   \n",
       "119386                     5       3       0.0   BB     FRA      Online TA   \n",
       "119387                     5       2       0.0   BB     DEU      Online TA   \n",
       "119388                     5       2       0.0   BB     GBR      Online TA   \n",
       "119389                     7       2       0.0   HB     DEU      Online TA   \n",
       "\n",
       "        ... is_repeated_guest  reserved_room_type assigned_room_type  \\\n",
       "0       ...                 0                   C                  C   \n",
       "1       ...                 0                   C                  C   \n",
       "2       ...                 0                   A                  C   \n",
       "3       ...                 0                   A                  A   \n",
       "4       ...                 0                   A                  A   \n",
       "...     ...               ...                 ...                ...   \n",
       "119385  ...                 0                   A                  A   \n",
       "119386  ...                 0                   E                  E   \n",
       "119387  ...                 0                   D                  D   \n",
       "119388  ...                 0                   A                  A   \n",
       "119389  ...                 0                   A                  A   \n",
       "\n",
       "       deposit_type customer_type reservation_status reservation_status_date  \\\n",
       "0        No Deposit     Transient          Check-Out                7/1/2015   \n",
       "1        No Deposit     Transient          Check-Out                7/1/2015   \n",
       "2        No Deposit     Transient          Check-Out                7/2/2015   \n",
       "3        No Deposit     Transient          Check-Out                7/2/2015   \n",
       "4        No Deposit     Transient          Check-Out                7/3/2015   \n",
       "...             ...           ...                ...                     ...   \n",
       "119385   No Deposit     Transient          Check-Out                9/6/2017   \n",
       "119386   No Deposit     Transient          Check-Out                9/7/2017   \n",
       "119387   No Deposit     Transient          Check-Out                9/7/2017   \n",
       "119388   No Deposit     Transient          Check-Out                9/7/2017   \n",
       "119389   No Deposit     Transient          Check-Out                9/7/2017   \n",
       "\n",
       "                      name                        email  phone-number  \n",
       "0            Ernest Barnes  Ernest.Barnes31@outlook.com  669-792-1661  \n",
       "1             Andrea Baker       Andrea_Baker94@aol.com  858-637-6955  \n",
       "2           Rebecca Parker   Rebecca_Parker@comcast.net  652-885-2745  \n",
       "3             Laura Murray            Laura_M@gmail.com  364-656-8427  \n",
       "4              Linda Hines           LHines@verizon.com  713-226-5883  \n",
       "...                    ...                          ...           ...  \n",
       "119385     Claudia Johnson          Claudia.J@yahoo.com  403-092-5582  \n",
       "119386      Wesley Aguilar         WAguilar@xfinity.com  238-763-0612  \n",
       "119387        Mary Morales     Mary_Morales@hotmail.com  395-518-4100  \n",
       "119388  Caroline Conley MD      MD_Caroline@comcast.net  531-528-1017  \n",
       "119389      Ariana Michael         Ariana_M@xfinity.com  422-804-6403  \n",
       "\n",
       "[119390 rows x 21 columns]"
      ]
     },
     "execution_count": 1,
     "metadata": {},
     "output_type": "execute_result"
    }
   ],
   "source": [
    "import pandas as pd\n",
    "df=pd.read_csv(r\"C:\\Users\\Anudip\\Downloads\\hotel_booking.csv\",encoding=\"latin1\")\n",
    "df"
   ]
  },
  {
   "cell_type": "markdown",
   "id": "2129e328-651c-4166-aeda-0d2b637a3f38",
   "metadata": {},
   "source": [
    "# Basic Operations"
   ]
  },
  {
   "cell_type": "code",
   "execution_count": 2,
   "id": "beb72c0c-61fc-4909-86d5-0819f735f3f8",
   "metadata": {},
   "outputs": [
    {
     "data": {
      "text/html": [
       "<div>\n",
       "<style scoped>\n",
       "    .dataframe tbody tr th:only-of-type {\n",
       "        vertical-align: middle;\n",
       "    }\n",
       "\n",
       "    .dataframe tbody tr th {\n",
       "        vertical-align: top;\n",
       "    }\n",
       "\n",
       "    .dataframe thead th {\n",
       "        text-align: right;\n",
       "    }\n",
       "</style>\n",
       "<table border=\"1\" class=\"dataframe\">\n",
       "  <thead>\n",
       "    <tr style=\"text-align: right;\">\n",
       "      <th></th>\n",
       "      <th>is_canceled</th>\n",
       "      <th>lead_time</th>\n",
       "      <th>stays_in_weekend_nights</th>\n",
       "      <th>stays_in_week_nights</th>\n",
       "      <th>adults</th>\n",
       "      <th>children</th>\n",
       "      <th>is_repeated_guest</th>\n",
       "    </tr>\n",
       "  </thead>\n",
       "  <tbody>\n",
       "    <tr>\n",
       "      <th>count</th>\n",
       "      <td>119390.000000</td>\n",
       "      <td>119390.000000</td>\n",
       "      <td>119390.000000</td>\n",
       "      <td>119390.000000</td>\n",
       "      <td>119390.000000</td>\n",
       "      <td>119386.000000</td>\n",
       "      <td>119390.000000</td>\n",
       "    </tr>\n",
       "    <tr>\n",
       "      <th>mean</th>\n",
       "      <td>0.370416</td>\n",
       "      <td>104.011416</td>\n",
       "      <td>0.927599</td>\n",
       "      <td>2.500302</td>\n",
       "      <td>1.856403</td>\n",
       "      <td>0.103890</td>\n",
       "      <td>0.031912</td>\n",
       "    </tr>\n",
       "    <tr>\n",
       "      <th>std</th>\n",
       "      <td>0.482918</td>\n",
       "      <td>106.863097</td>\n",
       "      <td>0.998613</td>\n",
       "      <td>1.908286</td>\n",
       "      <td>0.579261</td>\n",
       "      <td>0.398561</td>\n",
       "      <td>0.175767</td>\n",
       "    </tr>\n",
       "    <tr>\n",
       "      <th>min</th>\n",
       "      <td>0.000000</td>\n",
       "      <td>0.000000</td>\n",
       "      <td>0.000000</td>\n",
       "      <td>0.000000</td>\n",
       "      <td>0.000000</td>\n",
       "      <td>0.000000</td>\n",
       "      <td>0.000000</td>\n",
       "    </tr>\n",
       "    <tr>\n",
       "      <th>25%</th>\n",
       "      <td>0.000000</td>\n",
       "      <td>18.000000</td>\n",
       "      <td>0.000000</td>\n",
       "      <td>1.000000</td>\n",
       "      <td>2.000000</td>\n",
       "      <td>0.000000</td>\n",
       "      <td>0.000000</td>\n",
       "    </tr>\n",
       "    <tr>\n",
       "      <th>50%</th>\n",
       "      <td>0.000000</td>\n",
       "      <td>69.000000</td>\n",
       "      <td>1.000000</td>\n",
       "      <td>2.000000</td>\n",
       "      <td>2.000000</td>\n",
       "      <td>0.000000</td>\n",
       "      <td>0.000000</td>\n",
       "    </tr>\n",
       "    <tr>\n",
       "      <th>75%</th>\n",
       "      <td>1.000000</td>\n",
       "      <td>160.000000</td>\n",
       "      <td>2.000000</td>\n",
       "      <td>3.000000</td>\n",
       "      <td>2.000000</td>\n",
       "      <td>0.000000</td>\n",
       "      <td>0.000000</td>\n",
       "    </tr>\n",
       "    <tr>\n",
       "      <th>max</th>\n",
       "      <td>1.000000</td>\n",
       "      <td>737.000000</td>\n",
       "      <td>19.000000</td>\n",
       "      <td>50.000000</td>\n",
       "      <td>55.000000</td>\n",
       "      <td>10.000000</td>\n",
       "      <td>1.000000</td>\n",
       "    </tr>\n",
       "  </tbody>\n",
       "</table>\n",
       "</div>"
      ],
      "text/plain": [
       "         is_canceled      lead_time  stays_in_weekend_nights  \\\n",
       "count  119390.000000  119390.000000            119390.000000   \n",
       "mean        0.370416     104.011416                 0.927599   \n",
       "std         0.482918     106.863097                 0.998613   \n",
       "min         0.000000       0.000000                 0.000000   \n",
       "25%         0.000000      18.000000                 0.000000   \n",
       "50%         0.000000      69.000000                 1.000000   \n",
       "75%         1.000000     160.000000                 2.000000   \n",
       "max         1.000000     737.000000                19.000000   \n",
       "\n",
       "       stays_in_week_nights         adults       children  is_repeated_guest  \n",
       "count         119390.000000  119390.000000  119386.000000      119390.000000  \n",
       "mean               2.500302       1.856403       0.103890           0.031912  \n",
       "std                1.908286       0.579261       0.398561           0.175767  \n",
       "min                0.000000       0.000000       0.000000           0.000000  \n",
       "25%                1.000000       2.000000       0.000000           0.000000  \n",
       "50%                2.000000       2.000000       0.000000           0.000000  \n",
       "75%                3.000000       2.000000       0.000000           0.000000  \n",
       "max               50.000000      55.000000      10.000000           1.000000  "
      ]
     },
     "execution_count": 2,
     "metadata": {},
     "output_type": "execute_result"
    }
   ],
   "source": [
    "df.describe()"
   ]
  },
  {
   "cell_type": "code",
   "execution_count": 3,
   "id": "ba8babca-13de-4a21-ab2a-8108986ff3f2",
   "metadata": {},
   "outputs": [
    {
     "data": {
      "text/html": [
       "<div>\n",
       "<style scoped>\n",
       "    .dataframe tbody tr th:only-of-type {\n",
       "        vertical-align: middle;\n",
       "    }\n",
       "\n",
       "    .dataframe tbody tr th {\n",
       "        vertical-align: top;\n",
       "    }\n",
       "\n",
       "    .dataframe thead th {\n",
       "        text-align: right;\n",
       "    }\n",
       "</style>\n",
       "<table border=\"1\" class=\"dataframe\">\n",
       "  <thead>\n",
       "    <tr style=\"text-align: right;\">\n",
       "      <th></th>\n",
       "      <th>hotel</th>\n",
       "      <th>is_canceled</th>\n",
       "      <th>lead_time</th>\n",
       "      <th>stays_in_weekend_nights</th>\n",
       "      <th>stays_in_week_nights</th>\n",
       "      <th>adults</th>\n",
       "      <th>children</th>\n",
       "      <th>meal</th>\n",
       "      <th>country</th>\n",
       "      <th>market_segment</th>\n",
       "      <th>...</th>\n",
       "      <th>is_repeated_guest</th>\n",
       "      <th>reserved_room_type</th>\n",
       "      <th>assigned_room_type</th>\n",
       "      <th>deposit_type</th>\n",
       "      <th>customer_type</th>\n",
       "      <th>reservation_status</th>\n",
       "      <th>reservation_status_date</th>\n",
       "      <th>name</th>\n",
       "      <th>email</th>\n",
       "      <th>phone-number</th>\n",
       "    </tr>\n",
       "  </thead>\n",
       "  <tbody>\n",
       "    <tr>\n",
       "      <th>0</th>\n",
       "      <td>False</td>\n",
       "      <td>False</td>\n",
       "      <td>False</td>\n",
       "      <td>False</td>\n",
       "      <td>False</td>\n",
       "      <td>False</td>\n",
       "      <td>False</td>\n",
       "      <td>False</td>\n",
       "      <td>False</td>\n",
       "      <td>False</td>\n",
       "      <td>...</td>\n",
       "      <td>False</td>\n",
       "      <td>False</td>\n",
       "      <td>False</td>\n",
       "      <td>False</td>\n",
       "      <td>False</td>\n",
       "      <td>False</td>\n",
       "      <td>False</td>\n",
       "      <td>False</td>\n",
       "      <td>False</td>\n",
       "      <td>False</td>\n",
       "    </tr>\n",
       "    <tr>\n",
       "      <th>1</th>\n",
       "      <td>False</td>\n",
       "      <td>False</td>\n",
       "      <td>False</td>\n",
       "      <td>False</td>\n",
       "      <td>False</td>\n",
       "      <td>False</td>\n",
       "      <td>False</td>\n",
       "      <td>False</td>\n",
       "      <td>False</td>\n",
       "      <td>False</td>\n",
       "      <td>...</td>\n",
       "      <td>False</td>\n",
       "      <td>False</td>\n",
       "      <td>False</td>\n",
       "      <td>False</td>\n",
       "      <td>False</td>\n",
       "      <td>False</td>\n",
       "      <td>False</td>\n",
       "      <td>False</td>\n",
       "      <td>False</td>\n",
       "      <td>False</td>\n",
       "    </tr>\n",
       "    <tr>\n",
       "      <th>2</th>\n",
       "      <td>False</td>\n",
       "      <td>False</td>\n",
       "      <td>False</td>\n",
       "      <td>False</td>\n",
       "      <td>False</td>\n",
       "      <td>False</td>\n",
       "      <td>False</td>\n",
       "      <td>False</td>\n",
       "      <td>False</td>\n",
       "      <td>False</td>\n",
       "      <td>...</td>\n",
       "      <td>False</td>\n",
       "      <td>False</td>\n",
       "      <td>False</td>\n",
       "      <td>False</td>\n",
       "      <td>False</td>\n",
       "      <td>False</td>\n",
       "      <td>False</td>\n",
       "      <td>False</td>\n",
       "      <td>False</td>\n",
       "      <td>False</td>\n",
       "    </tr>\n",
       "    <tr>\n",
       "      <th>3</th>\n",
       "      <td>False</td>\n",
       "      <td>False</td>\n",
       "      <td>False</td>\n",
       "      <td>False</td>\n",
       "      <td>False</td>\n",
       "      <td>False</td>\n",
       "      <td>False</td>\n",
       "      <td>False</td>\n",
       "      <td>False</td>\n",
       "      <td>False</td>\n",
       "      <td>...</td>\n",
       "      <td>False</td>\n",
       "      <td>False</td>\n",
       "      <td>False</td>\n",
       "      <td>False</td>\n",
       "      <td>False</td>\n",
       "      <td>False</td>\n",
       "      <td>False</td>\n",
       "      <td>False</td>\n",
       "      <td>False</td>\n",
       "      <td>False</td>\n",
       "    </tr>\n",
       "    <tr>\n",
       "      <th>4</th>\n",
       "      <td>False</td>\n",
       "      <td>False</td>\n",
       "      <td>False</td>\n",
       "      <td>False</td>\n",
       "      <td>False</td>\n",
       "      <td>False</td>\n",
       "      <td>False</td>\n",
       "      <td>False</td>\n",
       "      <td>False</td>\n",
       "      <td>False</td>\n",
       "      <td>...</td>\n",
       "      <td>False</td>\n",
       "      <td>False</td>\n",
       "      <td>False</td>\n",
       "      <td>False</td>\n",
       "      <td>False</td>\n",
       "      <td>False</td>\n",
       "      <td>False</td>\n",
       "      <td>False</td>\n",
       "      <td>False</td>\n",
       "      <td>False</td>\n",
       "    </tr>\n",
       "    <tr>\n",
       "      <th>...</th>\n",
       "      <td>...</td>\n",
       "      <td>...</td>\n",
       "      <td>...</td>\n",
       "      <td>...</td>\n",
       "      <td>...</td>\n",
       "      <td>...</td>\n",
       "      <td>...</td>\n",
       "      <td>...</td>\n",
       "      <td>...</td>\n",
       "      <td>...</td>\n",
       "      <td>...</td>\n",
       "      <td>...</td>\n",
       "      <td>...</td>\n",
       "      <td>...</td>\n",
       "      <td>...</td>\n",
       "      <td>...</td>\n",
       "      <td>...</td>\n",
       "      <td>...</td>\n",
       "      <td>...</td>\n",
       "      <td>...</td>\n",
       "      <td>...</td>\n",
       "    </tr>\n",
       "    <tr>\n",
       "      <th>119385</th>\n",
       "      <td>False</td>\n",
       "      <td>False</td>\n",
       "      <td>False</td>\n",
       "      <td>False</td>\n",
       "      <td>False</td>\n",
       "      <td>False</td>\n",
       "      <td>False</td>\n",
       "      <td>False</td>\n",
       "      <td>False</td>\n",
       "      <td>False</td>\n",
       "      <td>...</td>\n",
       "      <td>False</td>\n",
       "      <td>False</td>\n",
       "      <td>False</td>\n",
       "      <td>False</td>\n",
       "      <td>False</td>\n",
       "      <td>False</td>\n",
       "      <td>False</td>\n",
       "      <td>False</td>\n",
       "      <td>False</td>\n",
       "      <td>False</td>\n",
       "    </tr>\n",
       "    <tr>\n",
       "      <th>119386</th>\n",
       "      <td>False</td>\n",
       "      <td>False</td>\n",
       "      <td>False</td>\n",
       "      <td>False</td>\n",
       "      <td>False</td>\n",
       "      <td>False</td>\n",
       "      <td>False</td>\n",
       "      <td>False</td>\n",
       "      <td>False</td>\n",
       "      <td>False</td>\n",
       "      <td>...</td>\n",
       "      <td>False</td>\n",
       "      <td>False</td>\n",
       "      <td>False</td>\n",
       "      <td>False</td>\n",
       "      <td>False</td>\n",
       "      <td>False</td>\n",
       "      <td>False</td>\n",
       "      <td>False</td>\n",
       "      <td>False</td>\n",
       "      <td>False</td>\n",
       "    </tr>\n",
       "    <tr>\n",
       "      <th>119387</th>\n",
       "      <td>False</td>\n",
       "      <td>False</td>\n",
       "      <td>False</td>\n",
       "      <td>False</td>\n",
       "      <td>False</td>\n",
       "      <td>False</td>\n",
       "      <td>False</td>\n",
       "      <td>False</td>\n",
       "      <td>False</td>\n",
       "      <td>False</td>\n",
       "      <td>...</td>\n",
       "      <td>False</td>\n",
       "      <td>False</td>\n",
       "      <td>False</td>\n",
       "      <td>False</td>\n",
       "      <td>False</td>\n",
       "      <td>False</td>\n",
       "      <td>False</td>\n",
       "      <td>False</td>\n",
       "      <td>False</td>\n",
       "      <td>False</td>\n",
       "    </tr>\n",
       "    <tr>\n",
       "      <th>119388</th>\n",
       "      <td>False</td>\n",
       "      <td>False</td>\n",
       "      <td>False</td>\n",
       "      <td>False</td>\n",
       "      <td>False</td>\n",
       "      <td>False</td>\n",
       "      <td>False</td>\n",
       "      <td>False</td>\n",
       "      <td>False</td>\n",
       "      <td>False</td>\n",
       "      <td>...</td>\n",
       "      <td>False</td>\n",
       "      <td>False</td>\n",
       "      <td>False</td>\n",
       "      <td>False</td>\n",
       "      <td>False</td>\n",
       "      <td>False</td>\n",
       "      <td>False</td>\n",
       "      <td>False</td>\n",
       "      <td>False</td>\n",
       "      <td>False</td>\n",
       "    </tr>\n",
       "    <tr>\n",
       "      <th>119389</th>\n",
       "      <td>False</td>\n",
       "      <td>False</td>\n",
       "      <td>False</td>\n",
       "      <td>False</td>\n",
       "      <td>False</td>\n",
       "      <td>False</td>\n",
       "      <td>False</td>\n",
       "      <td>False</td>\n",
       "      <td>False</td>\n",
       "      <td>False</td>\n",
       "      <td>...</td>\n",
       "      <td>False</td>\n",
       "      <td>False</td>\n",
       "      <td>False</td>\n",
       "      <td>False</td>\n",
       "      <td>False</td>\n",
       "      <td>False</td>\n",
       "      <td>False</td>\n",
       "      <td>False</td>\n",
       "      <td>False</td>\n",
       "      <td>False</td>\n",
       "    </tr>\n",
       "  </tbody>\n",
       "</table>\n",
       "<p>119390 rows × 21 columns</p>\n",
       "</div>"
      ],
      "text/plain": [
       "        hotel  is_canceled  lead_time  stays_in_weekend_nights  \\\n",
       "0       False        False      False                    False   \n",
       "1       False        False      False                    False   \n",
       "2       False        False      False                    False   \n",
       "3       False        False      False                    False   \n",
       "4       False        False      False                    False   \n",
       "...       ...          ...        ...                      ...   \n",
       "119385  False        False      False                    False   \n",
       "119386  False        False      False                    False   \n",
       "119387  False        False      False                    False   \n",
       "119388  False        False      False                    False   \n",
       "119389  False        False      False                    False   \n",
       "\n",
       "        stays_in_week_nights  adults  children   meal  country  \\\n",
       "0                      False   False     False  False    False   \n",
       "1                      False   False     False  False    False   \n",
       "2                      False   False     False  False    False   \n",
       "3                      False   False     False  False    False   \n",
       "4                      False   False     False  False    False   \n",
       "...                      ...     ...       ...    ...      ...   \n",
       "119385                 False   False     False  False    False   \n",
       "119386                 False   False     False  False    False   \n",
       "119387                 False   False     False  False    False   \n",
       "119388                 False   False     False  False    False   \n",
       "119389                 False   False     False  False    False   \n",
       "\n",
       "        market_segment  ...  is_repeated_guest  reserved_room_type  \\\n",
       "0                False  ...              False               False   \n",
       "1                False  ...              False               False   \n",
       "2                False  ...              False               False   \n",
       "3                False  ...              False               False   \n",
       "4                False  ...              False               False   \n",
       "...                ...  ...                ...                 ...   \n",
       "119385           False  ...              False               False   \n",
       "119386           False  ...              False               False   \n",
       "119387           False  ...              False               False   \n",
       "119388           False  ...              False               False   \n",
       "119389           False  ...              False               False   \n",
       "\n",
       "        assigned_room_type  deposit_type  customer_type  reservation_status  \\\n",
       "0                    False         False          False               False   \n",
       "1                    False         False          False               False   \n",
       "2                    False         False          False               False   \n",
       "3                    False         False          False               False   \n",
       "4                    False         False          False               False   \n",
       "...                    ...           ...            ...                 ...   \n",
       "119385               False         False          False               False   \n",
       "119386               False         False          False               False   \n",
       "119387               False         False          False               False   \n",
       "119388               False         False          False               False   \n",
       "119389               False         False          False               False   \n",
       "\n",
       "        reservation_status_date   name  email  phone-number  \n",
       "0                         False  False  False         False  \n",
       "1                         False  False  False         False  \n",
       "2                         False  False  False         False  \n",
       "3                         False  False  False         False  \n",
       "4                         False  False  False         False  \n",
       "...                         ...    ...    ...           ...  \n",
       "119385                    False  False  False         False  \n",
       "119386                    False  False  False         False  \n",
       "119387                    False  False  False         False  \n",
       "119388                    False  False  False         False  \n",
       "119389                    False  False  False         False  \n",
       "\n",
       "[119390 rows x 21 columns]"
      ]
     },
     "execution_count": 3,
     "metadata": {},
     "output_type": "execute_result"
    }
   ],
   "source": [
    "df.isnull()"
   ]
  },
  {
   "cell_type": "code",
   "execution_count": 4,
   "id": "6a9a01b0-ad51-430b-a7d2-fd27d3d7326d",
   "metadata": {},
   "outputs": [
    {
     "name": "stdout",
     "output_type": "stream",
     "text": [
      "<class 'pandas.core.frame.DataFrame'>\n",
      "RangeIndex: 119390 entries, 0 to 119389\n",
      "Data columns (total 21 columns):\n",
      " #   Column                   Non-Null Count   Dtype  \n",
      "---  ------                   --------------   -----  \n",
      " 0   hotel                    119390 non-null  object \n",
      " 1   is_canceled              119390 non-null  int64  \n",
      " 2   lead_time                119390 non-null  int64  \n",
      " 3   stays_in_weekend_nights  119390 non-null  int64  \n",
      " 4   stays_in_week_nights     119390 non-null  int64  \n",
      " 5   adults                   119390 non-null  int64  \n",
      " 6   children                 119386 non-null  float64\n",
      " 7   meal                     119390 non-null  object \n",
      " 8   country                  118902 non-null  object \n",
      " 9   market_segment           119390 non-null  object \n",
      " 10  distribution_channel     119390 non-null  object \n",
      " 11  is_repeated_guest        119390 non-null  int64  \n",
      " 12  reserved_room_type       119390 non-null  object \n",
      " 13  assigned_room_type       119390 non-null  object \n",
      " 14  deposit_type             119390 non-null  object \n",
      " 15  customer_type            119390 non-null  object \n",
      " 16  reservation_status       119390 non-null  object \n",
      " 17  reservation_status_date  119390 non-null  object \n",
      " 18  name                     119390 non-null  object \n",
      " 19  email                    119390 non-null  object \n",
      " 20  phone-number             119390 non-null  object \n",
      "dtypes: float64(1), int64(6), object(14)\n",
      "memory usage: 19.1+ MB\n"
     ]
    }
   ],
   "source": [
    "df.info()"
   ]
  },
  {
   "cell_type": "code",
   "execution_count": 5,
   "id": "84bef462-ab63-43cc-b0b0-09e8eb2c873a",
   "metadata": {},
   "outputs": [
    {
     "data": {
      "text/plain": [
       "hotel                        0\n",
       "is_canceled                  0\n",
       "lead_time                    0\n",
       "stays_in_weekend_nights      0\n",
       "stays_in_week_nights         0\n",
       "adults                       0\n",
       "children                     4\n",
       "meal                         0\n",
       "country                    488\n",
       "market_segment               0\n",
       "distribution_channel         0\n",
       "is_repeated_guest            0\n",
       "reserved_room_type           0\n",
       "assigned_room_type           0\n",
       "deposit_type                 0\n",
       "customer_type                0\n",
       "reservation_status           0\n",
       "reservation_status_date      0\n",
       "name                         0\n",
       "email                        0\n",
       "phone-number                 0\n",
       "dtype: int64"
      ]
     },
     "execution_count": 5,
     "metadata": {},
     "output_type": "execute_result"
    }
   ],
   "source": [
    "df.isnull().sum()"
   ]
  },
  {
   "cell_type": "code",
   "execution_count": 7,
   "id": "8bbeace7-051d-431e-8342-07a0fc7925a1",
   "metadata": {},
   "outputs": [],
   "source": [
    "df.dropna(inplace=True)"
   ]
  },
  {
   "cell_type": "code",
   "execution_count": 24,
   "id": "88923aa5-8472-4321-9308-c1dfb8bf7e9a",
   "metadata": {},
   "outputs": [
    {
     "data": {
      "text/plain": [
       "hotel                           2\n",
       "is_canceled                     2\n",
       "lead_time                     479\n",
       "stays_in_weekend_nights        17\n",
       "stays_in_week_nights           35\n",
       "adults                         14\n",
       "children                        5\n",
       "meal                            5\n",
       "country                       177\n",
       "market_segment                  8\n",
       "distribution_channel            5\n",
       "is_repeated_guest               2\n",
       "reserved_room_type             10\n",
       "assigned_room_type             12\n",
       "deposit_type                    3\n",
       "customer_type                   4\n",
       "reservation_status              3\n",
       "reservation_status_date       926\n",
       "name                        81503\n",
       "email                      115889\n",
       "phone-number               119390\n",
       "total_guests                   15\n",
       "dtype: int64"
      ]
     },
     "execution_count": 24,
     "metadata": {},
     "output_type": "execute_result"
    }
   ],
   "source": [
    "df.nunique()"
   ]
  },
  {
   "cell_type": "code",
   "execution_count": 36,
   "id": "9652c4a4-eacb-4025-b2d6-23e862d53e6c",
   "metadata": {},
   "outputs": [],
   "source": [
    "df.drop_duplicates(inplace=True)"
   ]
  },
  {
   "cell_type": "markdown",
   "id": "727c8e37-96c0-4747-aefd-047ba409845a",
   "metadata": {},
   "source": [
    "# Hotel Type preference"
   ]
  },
  {
   "cell_type": "code",
   "execution_count": 9,
   "id": "b533aa57-b4ad-4f96-967b-fc1df77746c1",
   "metadata": {},
   "outputs": [
    {
     "data": {
      "text/plain": [
       "hotel\n",
       "City Hotel      79330\n",
       "Resort Hotel    40060\n",
       "Name: count, dtype: int64"
      ]
     },
     "execution_count": 9,
     "metadata": {},
     "output_type": "execute_result"
    }
   ],
   "source": [
    "df['hotel'].value_counts()"
   ]
  },
  {
   "cell_type": "code",
   "execution_count": 26,
   "id": "f79e3a5b-1d6f-4246-a247-2ebef8c2bc2c",
   "metadata": {},
   "outputs": [
    {
     "data": {
      "text/plain": [
       "'A'"
      ]
     },
     "execution_count": 26,
     "metadata": {},
     "output_type": "execute_result"
    }
   ],
   "source": [
    "df['assigned_room_type'].value_counts().idxmax()\n"
   ]
  },
  {
   "cell_type": "code",
   "execution_count": 27,
   "id": "b39320c7-b4d6-4087-973f-7702b4eb991b",
   "metadata": {},
   "outputs": [
    {
     "data": {
      "text/plain": [
       "'A'"
      ]
     },
     "execution_count": 27,
     "metadata": {},
     "output_type": "execute_result"
    }
   ],
   "source": [
    "df['reserved_room_type'].value_counts().idxmax()\n"
   ]
  },
  {
   "cell_type": "markdown",
   "id": "86066af1-6b9c-41bb-b9ee-173a9561f8c0",
   "metadata": {},
   "source": [
    "# Booking Behavior"
   ]
  },
  {
   "cell_type": "code",
   "execution_count": 21,
   "id": "d2a32283-84f8-4fae-926f-6641d8fb7171",
   "metadata": {},
   "outputs": [
    {
     "data": {
      "text/plain": [
       "104.01141636652986"
      ]
     },
     "execution_count": 21,
     "metadata": {},
     "output_type": "execute_result"
    }
   ],
   "source": [
    "df['lead_time'].mean()"
   ]
  },
  {
   "cell_type": "code",
   "execution_count": 15,
   "id": "758b6825-8754-4547-ba20-c44dd474780c",
   "metadata": {},
   "outputs": [
    {
     "data": {
      "text/plain": [
       "2.500301532791691"
      ]
     },
     "execution_count": 15,
     "metadata": {},
     "output_type": "execute_result"
    }
   ],
   "source": [
    "pdf['stays_in_week_nights'].mean()"
   ]
  },
  {
   "cell_type": "code",
   "execution_count": 16,
   "id": "db724177-bae0-48aa-82c5-61a2c6e3943d",
   "metadata": {},
   "outputs": [
    {
     "data": {
      "text/plain": [
       "0.9275986263506156"
      ]
     },
     "execution_count": 16,
     "metadata": {},
     "output_type": "execute_result"
    }
   ],
   "source": [
    "df['stays_in_weekend_nights'].mean()"
   ]
  },
  {
   "cell_type": "markdown",
   "id": "d73ab60e-a029-4422-861b-0afeb74b50bf",
   "metadata": {},
   "source": [
    "Above information says that average stay on week nights is 2.5 and in weekend night is 0.9 approximately."
   ]
  },
  {
   "cell_type": "markdown",
   "id": "f74ba2c1-eb4d-4d31-9856-a287e89cc018",
   "metadata": {},
   "source": [
    "# Guest Details"
   ]
  },
  {
   "cell_type": "code",
   "execution_count": 18,
   "id": "cf6eb92f-10f9-4475-92b2-0c922ccd8945",
   "metadata": {},
   "outputs": [
    {
     "data": {
      "text/plain": [
       "12403.0"
      ]
     },
     "execution_count": 18,
     "metadata": {},
     "output_type": "execute_result"
    }
   ],
   "source": [
    "df['children'].sum()"
   ]
  },
  {
   "cell_type": "code",
   "execution_count": 19,
   "id": "faa31072-d157-4b91-8655-238f8041547a",
   "metadata": {},
   "outputs": [
    {
     "data": {
      "text/plain": [
       "221636"
      ]
     },
     "execution_count": 19,
     "metadata": {},
     "output_type": "execute_result"
    }
   ],
   "source": [
    "df['adults'].sum()"
   ]
  },
  {
   "cell_type": "code",
   "execution_count": 20,
   "id": "005eaac3-4572-429c-afc5-6e0807df2599",
   "metadata": {},
   "outputs": [
    {
     "data": {
      "text/plain": [
       "1.960280099844203"
      ]
     },
     "execution_count": 20,
     "metadata": {},
     "output_type": "execute_result"
    }
   ],
   "source": [
    "df['total_guests'] = df['adults'] + df['children']\n",
    "df['total_guests'].mean()\n"
   ]
  },
  {
   "cell_type": "markdown",
   "id": "cd5cf262-d435-4ec7-b274-25e72dec6001",
   "metadata": {},
   "source": [
    "# Booking Cancellation rate"
   ]
  },
  {
   "cell_type": "code",
   "execution_count": 17,
   "id": "e5399c92-e8c4-40ba-b948-5173c65b56aa",
   "metadata": {},
   "outputs": [
    {
     "data": {
      "image/png": "[encoded data removed]",
      "text/plain": [
       "<Figure size 640x480 with 1 Axes>"
      ]
     },
     "metadata": {},
     "output_type": "display_data"
    }
   ],
   "source": [
    "import matplotlib.pyplot as plt\n",
    "\n",
    "df['is_canceled'].value_counts(normalize=True).mul(100).plot(kind='bar', color=['green', 'red'])\n",
    "plt.title('Booking Cancellation Percentage')\n",
    "plt.ylabel('Percentage')\n",
    "plt.xticks([0, 1], ['Not Canceled', 'Canceled'], rotation=0)\n",
    "plt.grid(axis='y')\n",
    "plt.show()\n"
   ]
  },
  {
   "cell_type": "markdown",
   "id": "7ccfb665-beb9-492a-9d04-be0ed5091bd2",
   "metadata": {},
   "source": [
    "# Top 5 Countries by Booking"
   ]
  },
  {
   "cell_type": "code",
   "execution_count": 18,
   "id": "782473be-b97a-46a5-bef0-4d84394bd885",
   "metadata": {},
   "outputs": [
    {
     "data": {
      "text/plain": [
       "country\n",
       "PRT    48590\n",
       "GBR    12129\n",
       "FRA    10415\n",
       "ESP     8568\n",
       "DEU     7287\n",
       "Name: count, dtype: int64"
      ]
     },
     "execution_count": 18,
     "metadata": {},
     "output_type": "execute_result"
    }
   ],
   "source": [
    "df['country'].value_counts().head(5)"
   ]
  },
  {
   "cell_type": "markdown",
   "id": "9497e0a6-12c4-4a5c-bac4-c04095986a00",
   "metadata": {},
   "source": [
    "Portugal has many bookings"
   ]
  },
  {
   "cell_type": "code",
   "execution_count": 22,
   "id": "061cca29-5d69-4096-b5c4-5e0b4ed6b594",
   "metadata": {},
   "outputs": [
    {
     "data": {
      "text/plain": [
       "177"
      ]
     },
     "execution_count": 22,
     "metadata": {},
     "output_type": "execute_result"
    }
   ],
   "source": [
    "df['country'].nunique()"
   ]
  },
  {
   "cell_type": "markdown",
   "id": "f80918d1-bd70-4934-b992-ed33f8411dca",
   "metadata": {},
   "source": [
    "There is 177 unique countries"
   ]
  },
  {
   "cell_type": "markdown",
   "id": "3abefe9c-9df9-4bcc-8ace-b8545e48c46c",
   "metadata": {},
   "source": [
    "# Time Based"
   ]
  },
  {
   "cell_type": "code",
   "execution_count": 31,
   "id": "62a9d688-a9e7-4ff1-9382-d679d09cc488",
   "metadata": {},
   "outputs": [
    {
     "data": {
      "text/plain": [
       "'July'"
      ]
     },
     "execution_count": 31,
     "metadata": {},
     "output_type": "execute_result"
    }
   ],
   "source": [
    "import calendar\n",
    "calendar.month_name[df['month'].value_counts().idxmax()]\n"
   ]
  },
  {
   "cell_type": "markdown",
   "id": "e10876bb-f71c-4cfb-afd0-bbb53a204ba5",
   "metadata": {},
   "source": [
    "July is the peak booking month"
   ]
  },
  {
   "cell_type": "code",
   "execution_count": 32,
   "id": "7174c7a7-cda6-4b48-bbad-09032ab01f9f",
   "metadata": {},
   "outputs": [
    {
     "data": {
      "text/plain": [
       "737"
      ]
     },
     "execution_count": 32,
     "metadata": {},
     "output_type": "execute_result"
    }
   ],
   "source": [
    "df['lead_time'].max()\n"
   ]
  },
  {
   "cell_type": "code",
   "execution_count": 33,
   "id": "a4f99220-bffe-48a9-9684-37115a518d32",
   "metadata": {},
   "outputs": [
    {
     "data": {
      "text/plain": [
       "0"
      ]
     },
     "execution_count": 33,
     "metadata": {},
     "output_type": "execute_result"
    }
   ],
   "source": [
    "df['lead_time'].min()\n"
   ]
  },
  {
   "cell_type": "markdown",
   "id": "c378fd40-46d4-4fc1-add3-e61044fab2ef",
   "metadata": {},
   "source": [
    "# Market segment"
   ]
  },
  {
   "cell_type": "code",
   "execution_count": 19,
   "id": "68fd4c1c-94d5-4f73-96ca-b2a3b6c96233",
   "metadata": {},
   "outputs": [
    {
     "data": {
      "text/plain": [
       "market_segment\n",
       "Online TA        56477\n",
       "Offline TA/TO    24219\n",
       "Groups           19811\n",
       "Direct           12606\n",
       "Corporate         5295\n",
       "Complementary      743\n",
       "Aviation           237\n",
       "Undefined            2\n",
       "Name: count, dtype: int64"
      ]
     },
     "execution_count": 19,
     "metadata": {},
     "output_type": "execute_result"
    }
   ],
   "source": [
    "df['market_segment'].value_counts()"
   ]
  },
  {
   "cell_type": "code",
   "execution_count": 25,
   "id": "2116bfde-c294-40d5-93e0-b5a7a758e3cc",
   "metadata": {},
   "outputs": [
    {
     "data": {
      "text/plain": [
       "'Online TA'"
      ]
     },
     "execution_count": 25,
     "metadata": {},
     "output_type": "execute_result"
    }
   ],
   "source": [
    "df['market_segment'].value_counts().idxmax()\n"
   ]
  },
  {
   "cell_type": "markdown",
   "id": "e99d1495-4f88-4406-b00e-45202822fb68",
   "metadata": {},
   "source": [
    "# Meals channels"
   ]
  },
  {
   "cell_type": "code",
   "execution_count": 38,
   "id": "b6b19f48-5a99-4bd2-ae12-067322f9d8a1",
   "metadata": {},
   "outputs": [
    {
     "data": {
      "image/png": "[encoded data removed]",
      "text/plain": [
       "<Figure size 640x480 with 1 Axes>"
      ]
     },
     "metadata": {},
     "output_type": "display_data"
    }
   ],
   "source": [
    "import matplotlib.pyplot as plt\n",
    "\n",
    "df['meal'].value_counts().plot(kind='bar', color='lightblue')\n",
    "plt.title('Meal Plan Distribution')\n",
    "plt.xlabel('Meal Type')\n",
    "plt.ylabel('Number of Bookings')\n",
    "plt.show()\n"
   ]
  },
  {
   "cell_type": "code",
   "execution_count": 23,
   "id": "c62da5a1-1c6e-4039-bdf7-90789041bd3c",
   "metadata": {},
   "outputs": [
    {
     "data": {
      "text/plain": [
       "'BB'"
      ]
     },
     "execution_count": 23,
     "metadata": {},
     "output_type": "execute_result"
    }
   ],
   "source": [
    "df['meal'].value_counts().idxmax()\n"
   ]
  },
  {
   "cell_type": "markdown",
   "id": "ef2f0131-aa04-4428-afbb-125aa308ef8b",
   "metadata": {},
   "source": [
    "Top meal type is Bed and Breakfast"
   ]
  },
  {
   "cell_type": "markdown",
   "id": "9a326c80-a152-402e-94ac-eccbca38e8ab",
   "metadata": {},
   "source": [
    "# Booking trends by month"
   ]
  },
  {
   "cell_type": "code",
   "execution_count": 37,
   "id": "bf80ca57-fad0-4cfc-829e-c888cd51ee63",
   "metadata": {},
   "outputs": [
    {
     "data": {
      "text/plain": [
       "<Axes: xlabel='month_name'>"
      ]
     },
     "execution_count": 37,
     "metadata": {},
     "output_type": "execute_result"
    },
    {
     "data": {
      "image/png": "[encoded data removed]",
      "text/plain": [
       "<Figure size 640x480 with 1 Axes>"
      ]
     },
     "metadata": {},
     "output_type": "display_data"
    }
   ],
   "source": [
    "import calendar\n",
    "df['month_name'] = df['month'].apply(lambda x: calendar.month_name[x])\n",
    "df['month_name'].value_counts().sort_index().plot(kind='bar')\n"
   ]
  },
  {
   "cell_type": "markdown",
   "id": "4981ca16-e81b-45d1-806f-b76b62132845",
   "metadata": {},
   "source": [
    "# Customers Type"
   ]
  },
  {
   "cell_type": "code",
   "execution_count": 22,
   "id": "6e2b77b7-34f5-45f8-b558-adbfa2342f7f",
   "metadata": {},
   "outputs": [
    {
     "data": {
      "text/plain": [
       "<Axes: xlabel='customer_type'>"
      ]
     },
     "execution_count": 22,
     "metadata": {},
     "output_type": "execute_result"
    },
    {
     "data": {
      "image/png": "[encoded data removed]",
      "text/plain": [
       "<Figure size 640x480 with 1 Axes>"
      ]
     },
     "metadata": {},
     "output_type": "display_data"
    }
   ],
   "source": [
    "df['customer_type'].value_counts().plot(kind='bar')"
   ]
  },
  {
   "cell_type": "code",
   "execution_count": 29,
   "id": "267d0118-71b6-4a6d-aed4-61b1e6d3a949",
   "metadata": {},
   "outputs": [
    {
     "data": {
      "text/plain": [
       "3810"
      ]
     },
     "execution_count": 29,
     "metadata": {},
     "output_type": "execute_result"
    }
   ],
   "source": [
    "df['is_repeated_guest'].sum()"
   ]
  },
  {
   "cell_type": "markdown",
   "id": "a096fa50-d491-49c2-bf1b-0c92c071cfa0",
   "metadata": {},
   "source": [
    "# Deposite Type"
   ]
  },
  {
   "cell_type": "code",
   "execution_count": 15,
   "id": "ad86c270-84e3-4a68-93dc-4a014a0fcfcf",
   "metadata": {},
   "outputs": [
    {
     "data": {
      "text/plain": [
       "<Axes: ylabel='count'>"
      ]
     },
     "execution_count": 15,
     "metadata": {},
     "output_type": "execute_result"
    },
    {
     "data": {
      "image/png": "[encoded data removed]",
      "text/plain": [
       "<Figure size 640x480 with 1 Axes>"
      ]
     },
     "metadata": {},
     "output_type": "display_data"
    }
   ],
   "source": [
    "df['deposit_type'].value_counts().plot(kind='pie',autopct='%1.1f%%')"
   ]
  },
  {
   "cell_type": "code",
   "execution_count": null,
   "id": "98fcbadb-5890-463f-8b4a-68539f1d9c87",
   "metadata": {},
   "outputs": [],
   "source": []
  }
 ],
 "metadata": {
  "kernelspec": {
   "display_name": "Python 3 (ipykernel)",
   "language": "python",
   "name": "python3"
  },
  "language_info": {
   "codemirror_mode": {
    "name": "ipython",
    "version": 3
   },
   "file_extension": ".py",
   "mimetype": "text/x-python",
   "name": "python",
   "nbconvert_exporter": "python",
   "pygments_lexer": "ipython3",
   "version": "3.12.7"
  }
 },
 "nbformat": 4,
 "nbformat_minor": 5
}
